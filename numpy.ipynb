{
  "nbformat": 4,
  "nbformat_minor": 0,
  "metadata": {
    "colab": {
      "name": "numpy.ipynb",
      "provenance": [],
      "authorship_tag": "ABX9TyPJWOs3QyPgQnn/5JsoUuJX",
      "include_colab_link": true
    },
    "kernelspec": {
      "name": "python3",
      "display_name": "Python 3"
    },
    "language_info": {
      "name": "python"
    }
  },
  "cells": [
    {
      "cell_type": "markdown",
      "metadata": {
        "id": "view-in-github",
        "colab_type": "text"
      },
      "source": [
        "<a href=\"https://colab.research.google.com/github/filipecarbonera/formacao_python/blob/main/numpy.ipynb\" target=\"_parent\"><img src=\"https://colab.research.google.com/assets/colab-badge.svg\" alt=\"Open In Colab\"/></a>"
      ]
    },
    {
      "cell_type": "markdown",
      "source": [
        "[Documentação Numpy]('https://numpy.org/doc/stable/')"
      ],
      "metadata": {
        "id": "1V9X6CAIugFI"
      }
    },
    {
      "cell_type": "markdown",
      "source": [
        "[Tipos de dados do Numpy]('https://numpy.org/doc/stable/user/basics.types.html')"
      ],
      "metadata": {
        "id": "QEDARpiIv1Dx"
      }
    },
    {
      "cell_type": "code",
      "execution_count": 1,
      "metadata": {
        "id": "76INLoL3jVjc"
      },
      "outputs": [],
      "source": [
        "import numpy as np"
      ]
    },
    {
      "cell_type": "markdown",
      "source": [
        "### **Exemplo:** Calculando a kilometragem média:"
      ],
      "metadata": {
        "id": "zVlWCXosj16H"
      }
    },
    {
      "cell_type": "markdown",
      "source": [
        "[Documentação loadtext do Numpy](\"https://numpy.org/doc/stable/reference/generated/numpy.loadtxt.html\")"
      ],
      "metadata": {
        "id": "Ez6gP-jllF4a"
      }
    },
    {
      "cell_type": "code",
      "source": [
        "km = np.loadtxt('https://raw.githubusercontent.com/filipecarbonera/formacao_python/main/dados/carros-km.txt')\n",
        "km"
      ],
      "metadata": {
        "colab": {
          "base_uri": "https://localhost:8080/"
        },
        "id": "wuqRHykGjb71",
        "outputId": "306b699d-ac8c-4ffa-a7b4-83eccd136124"
      },
      "execution_count": 2,
      "outputs": [
        {
          "output_type": "execute_result",
          "data": {
            "text/plain": [
              "array([4.44100e+04, 5.71200e+03, 3.71230e+04, 0.00000e+00, 2.57570e+04,\n",
              "       1.07280e+04, 0.00000e+00, 7.75990e+04, 9.91970e+04, 3.79780e+04,\n",
              "       1.28590e+04, 8.05200e+03, 8.97730e+04, 0.00000e+00, 4.14570e+04,\n",
              "       1.15607e+05, 4.64490e+04, 0.00000e+00, 3.70860e+04, 1.51730e+04,\n",
              "       1.01193e+05, 0.00000e+00, 9.80790e+04, 1.02959e+05, 0.00000e+00,\n",
              "       0.00000e+00, 5.79500e+03, 0.00000e+00, 5.88480e+04, 9.43810e+04,\n",
              "       3.01630e+04, 5.33320e+04, 1.77200e+04, 3.38080e+04, 9.06840e+04,\n",
              "       4.39750e+04, 0.00000e+00, 0.00000e+00, 5.52600e+03, 0.00000e+00,\n",
              "       9.34150e+04, 4.07620e+04, 0.00000e+00, 8.63020e+04, 0.00000e+00,\n",
              "       9.75500e+03, 6.99450e+04, 2.39500e+03, 0.00000e+00, 8.03490e+04,\n",
              "       8.55540e+04, 5.04960e+04, 6.77160e+04, 9.39470e+04, 3.53450e+04,\n",
              "       8.10070e+04, 1.19513e+05, 0.00000e+00, 0.00000e+00, 0.00000e+00,\n",
              "       0.00000e+00, 0.00000e+00, 1.18895e+05, 4.85090e+04, 1.00912e+05,\n",
              "       9.56490e+04, 0.00000e+00, 9.04950e+04, 0.00000e+00, 2.91320e+04,\n",
              "       2.38020e+04, 8.49920e+04, 5.43950e+04, 2.67310e+04, 4.43290e+04,\n",
              "       1.18236e+05, 1.13808e+05, 6.10000e+02, 0.00000e+00, 0.00000e+00,\n",
              "       1.28870e+04, 7.96070e+04, 9.09240e+04, 4.27330e+04, 0.00000e+00,\n",
              "       0.00000e+00, 1.17714e+05, 1.13885e+05, 0.00000e+00, 3.05110e+04,\n",
              "       7.48670e+04, 1.19760e+05, 8.35600e+03, 6.42470e+04, 8.86610e+04,\n",
              "       4.53900e+03, 1.10116e+05, 3.32150e+04, 9.20010e+04, 0.00000e+00,\n",
              "       8.17080e+04, 7.06410e+04, 0.00000e+00, 9.12770e+04, 2.65440e+04,\n",
              "       5.25960e+04, 4.75030e+04, 8.90560e+04, 2.88340e+04, 1.10564e+05,\n",
              "       5.66380e+04, 1.73570e+04, 7.40150e+04, 1.51960e+04, 0.00000e+00,\n",
              "       1.08210e+04, 0.00000e+00, 0.00000e+00, 9.59500e+03, 9.90520e+04,\n",
              "       5.23890e+04, 1.19945e+05, 9.60050e+04, 3.16390e+04, 0.00000e+00,\n",
              "       8.01870e+04, 0.00000e+00, 5.82120e+04, 6.16720e+04, 3.20170e+04,\n",
              "       0.00000e+00, 5.69440e+04, 0.00000e+00, 8.65190e+04, 4.82100e+03,\n",
              "       1.01025e+05, 3.07050e+04, 0.00000e+00, 3.25550e+04, 1.03389e+05,\n",
              "       0.00000e+00, 5.52890e+04, 0.00000e+00, 0.00000e+00, 1.15930e+05,\n",
              "       6.64370e+04, 9.68000e+04, 1.42370e+04, 1.98960e+04, 1.13045e+05,\n",
              "       1.14942e+05, 3.17300e+03, 8.36110e+04, 2.53560e+04, 8.86340e+04,\n",
              "       2.31400e+03, 2.62700e+03, 5.20340e+04, 0.00000e+00, 0.00000e+00,\n",
              "       7.95770e+04, 1.08201e+05, 7.64530e+04, 5.76830e+04, 9.66100e+04,\n",
              "       1.09001e+05, 2.62120e+04, 4.59710e+04, 4.91820e+04, 4.99070e+04,\n",
              "       3.86200e+04, 6.09960e+04, 7.39140e+04, 1.07392e+05, 9.14600e+03,\n",
              "       0.00000e+00, 1.79240e+04, 0.00000e+00, 1.16949e+05, 2.04760e+04,\n",
              "       5.28040e+04, 8.84900e+03, 9.17240e+04, 3.20560e+04, 7.48860e+04,\n",
              "       0.00000e+00, 0.00000e+00, 5.21890e+04, 8.35590e+04, 0.00000e+00,\n",
              "       2.03280e+04, 0.00000e+00, 7.55770e+04, 3.36590e+04, 1.04341e+05,\n",
              "       2.55100e+04, 1.89650e+04, 8.71610e+04, 6.65200e+03, 5.57380e+04,\n",
              "       0.00000e+00, 0.00000e+00, 0.00000e+00, 6.43200e+04, 0.00000e+00,\n",
              "       6.86780e+04, 7.16970e+04, 0.00000e+00, 3.47830e+04, 3.37720e+04,\n",
              "       8.51270e+04, 1.36060e+04, 3.56470e+04, 9.51280e+04, 1.40460e+04,\n",
              "       4.11940e+04, 0.00000e+00, 9.61000e+04, 1.03900e+05, 4.38140e+04,\n",
              "       2.46380e+04, 0.00000e+00, 1.10966e+05, 1.59870e+04, 5.33690e+04,\n",
              "       1.00770e+04, 7.15440e+04, 1.07000e+02, 8.39400e+03, 4.14980e+04,\n",
              "       1.16002e+05, 1.00858e+05, 6.74750e+04, 8.49700e+03, 4.42000e+03,\n",
              "       0.00000e+00, 5.85370e+04, 0.00000e+00, 0.00000e+00, 1.12016e+05,\n",
              "       9.18400e+04, 1.12787e+05, 0.00000e+00, 0.00000e+00, 9.29300e+03,\n",
              "       0.00000e+00, 5.50830e+04, 4.87960e+04, 0.00000e+00, 8.96850e+04,\n",
              "       8.53840e+04, 9.81080e+04, 7.12800e+04, 2.75050e+04, 2.99810e+04,\n",
              "       5.26370e+04, 7.68500e+03, 5.01880e+04])"
            ]
          },
          "metadata": {},
          "execution_count": 2
        }
      ]
    },
    {
      "cell_type": "code",
      "source": [
        "anos = np.loadtxt('https://raw.githubusercontent.com/filipecarbonera/formacao_python/main/dados/carros-anos.txt', dtype=int)\n",
        "anos"
      ],
      "metadata": {
        "colab": {
          "base_uri": "https://localhost:8080/"
        },
        "id": "9N1bJcyNjsLt",
        "outputId": "5c2c8fcc-2c31-4dee-b312-6d3d58642531"
      },
      "execution_count": 3,
      "outputs": [
        {
          "output_type": "execute_result",
          "data": {
            "text/plain": [
              "array([2003, 1991, 1990, 2019, 2006, 2012, 2019, 2009, 2010, 2011, 2002,\n",
              "       2007, 2001, 2019, 2009, 2016, 2012, 2019, 2016, 2017, 2002, 2019,\n",
              "       1994, 1991, 2019, 2019, 2016, 2019, 2002, 1991, 1997, 1995, 2018,\n",
              "       1991, 2014, 1995, 2019, 2019, 2009, 2019, 2013, 2003, 2019, 2002,\n",
              "       2019, 2002, 2004, 2001, 2019, 2003, 2009, 2006, 2000, 2006, 2010,\n",
              "       1994, 2007, 2019, 2019, 2019, 2019, 2019, 2017, 2011, 2001, 1996,\n",
              "       2019, 1994, 2019, 2007, 1994, 2007, 1997, 2006, 2013, 1994, 2008,\n",
              "       2008, 2019, 2019, 1999, 2007, 1993, 1995, 2019, 2019, 2016, 2011,\n",
              "       2019, 2002, 2013, 2017, 2016, 2008, 2018, 2003, 2003, 2004, 2010,\n",
              "       2019, 2006, 2001, 2019, 2015, 2018, 2017, 1992, 2001, 1993, 1995,\n",
              "       2003, 2014, 2008, 2013, 2019, 2017, 2019, 2019, 2006, 2015, 2007,\n",
              "       2005, 2017, 1998, 2019, 1999, 2019, 2009, 2003, 1994, 2019, 1994,\n",
              "       2019, 2015, 1996, 1997, 1993, 2019, 1992, 1995, 2019, 1990, 2019,\n",
              "       2019, 1991, 1990, 2012, 2007, 2013, 2000, 2002, 1996, 1996, 2015,\n",
              "       1993, 2013, 2013, 2009, 2019, 2019, 2002, 1997, 1998, 2004, 1996,\n",
              "       2015, 2016, 2005, 1999, 1995, 1993, 2004, 2013, 1998, 2018, 2019,\n",
              "       2018, 2019, 1990, 2009, 1990, 2006, 2002, 1991, 1992, 2019, 2019,\n",
              "       2005, 2010, 2019, 2016, 2019, 2010, 1994, 2001, 2014, 1996, 1993,\n",
              "       1993, 2001, 2019, 2019, 2019, 2007, 2019, 2016, 2014, 2019, 2015,\n",
              "       2015, 1996, 2002, 2005, 1995, 1999, 2005, 2019, 1997, 1990, 2001,\n",
              "       2013, 2019, 2017, 2011, 2005, 2007, 1993, 1991, 1991, 1997, 2000,\n",
              "       2007, 2006, 2015, 2008, 2019, 1996, 2019, 2019, 2014, 2004, 2008,\n",
              "       2019, 2019, 2012, 2019, 1996, 2011, 2019, 2010, 2007, 1994, 2007,\n",
              "       2014, 1991, 2002, 1996, 1992])"
            ]
          },
          "metadata": {},
          "execution_count": 3
        }
      ]
    },
    {
      "cell_type": "code",
      "source": [
        "km_media = km / (2022 - anos)\n",
        "print(km_media)\n",
        "print(type(km_media))"
      ],
      "metadata": {
        "colab": {
          "base_uri": "https://localhost:8080/"
        },
        "id": "GQI_sVakkSVc",
        "outputId": "6fa659a5-19d2-45a1-b71d-94f38304da97"
      },
      "execution_count": 4,
      "outputs": [
        {
          "output_type": "stream",
          "name": "stdout",
          "text": [
            "[2.33736842e+03 1.84258065e+02 1.16009375e+03 0.00000000e+00\n",
            " 1.60981250e+03 1.07280000e+03 0.00000000e+00 5.96915385e+03\n",
            " 8.26641667e+03 3.45254545e+03 6.42950000e+02 5.36800000e+02\n",
            " 4.27490476e+03 0.00000000e+00 3.18900000e+03 1.92678333e+04\n",
            " 4.64490000e+03 0.00000000e+00 6.18100000e+03 3.03460000e+03\n",
            " 5.05965000e+03 0.00000000e+00 3.50282143e+03 3.32125806e+03\n",
            " 0.00000000e+00 0.00000000e+00 9.65833333e+02 0.00000000e+00\n",
            " 2.94240000e+03 3.04454839e+03 1.20652000e+03 1.97525926e+03\n",
            " 4.43000000e+03 1.09058065e+03 1.13355000e+04 1.62870370e+03\n",
            " 0.00000000e+00 0.00000000e+00 4.25076923e+02 0.00000000e+00\n",
            " 1.03794444e+04 2.14536842e+03 0.00000000e+00 4.31510000e+03\n",
            " 0.00000000e+00 4.87750000e+02 3.88583333e+03 1.14047619e+02\n",
            " 0.00000000e+00 4.22889474e+03 6.58107692e+03 3.15600000e+03\n",
            " 3.07800000e+03 5.87168750e+03 2.94541667e+03 2.89310714e+03\n",
            " 7.96753333e+03 0.00000000e+00 0.00000000e+00 0.00000000e+00\n",
            " 0.00000000e+00 0.00000000e+00 2.37790000e+04 4.40990909e+03\n",
            " 4.80533333e+03 3.67880769e+03 0.00000000e+00 3.23196429e+03\n",
            " 0.00000000e+00 1.94213333e+03 8.50071429e+02 5.66613333e+03\n",
            " 2.17580000e+03 1.67068750e+03 4.92544444e+03 4.22271429e+03\n",
            " 8.12914286e+03 4.35714286e+01 0.00000000e+00 0.00000000e+00\n",
            " 5.60304348e+02 5.30713333e+03 3.13531034e+03 1.58270370e+03\n",
            " 0.00000000e+00 0.00000000e+00 1.96190000e+04 1.03531818e+04\n",
            " 0.00000000e+00 1.52555000e+03 8.31855556e+03 2.39520000e+04\n",
            " 1.39266667e+03 4.58907143e+03 2.21652500e+04 2.38894737e+02\n",
            " 5.79557895e+03 1.84527778e+03 7.66675000e+03 0.00000000e+00\n",
            " 5.10675000e+03 3.36385714e+03 0.00000000e+00 1.30395714e+04\n",
            " 6.63600000e+03 1.05192000e+04 1.58343333e+03 4.24076190e+03\n",
            " 9.94275862e+02 4.09496296e+03 2.98094737e+03 2.16962500e+03\n",
            " 5.28678571e+03 1.68844444e+03 0.00000000e+00 2.16420000e+03\n",
            " 0.00000000e+00 0.00000000e+00 5.99687500e+02 1.41502857e+04\n",
            " 3.49260000e+03 7.05558824e+03 1.92010000e+04 1.31829167e+03\n",
            " 0.00000000e+00 3.48639130e+03 0.00000000e+00 4.47784615e+03\n",
            " 3.24589474e+03 1.14346429e+03 0.00000000e+00 2.03371429e+03\n",
            " 0.00000000e+00 1.23598571e+04 1.85423077e+02 4.04100000e+03\n",
            " 1.05879310e+03 0.00000000e+00 1.08516667e+03 3.82922222e+03\n",
            " 0.00000000e+00 1.72778125e+03 0.00000000e+00 0.00000000e+00\n",
            " 3.73967742e+03 2.07615625e+03 9.68000000e+03 9.49133333e+02\n",
            " 2.21066667e+03 5.13840909e+03 5.74710000e+03 1.22038462e+02\n",
            " 3.21580769e+03 3.62228571e+03 3.05634483e+03 2.57111111e+02\n",
            " 2.91888889e+02 4.00261538e+03 0.00000000e+00 0.00000000e+00\n",
            " 3.97885000e+03 4.32804000e+03 3.18554167e+03 3.20461111e+03\n",
            " 3.71576923e+03 1.55715714e+04 4.36866667e+03 2.70417647e+03\n",
            " 2.13834783e+03 1.84840741e+03 1.33172414e+03 3.38866667e+03\n",
            " 8.21266667e+03 4.47466667e+03 2.28650000e+03 0.00000000e+00\n",
            " 4.48100000e+03 0.00000000e+00 3.65465625e+03 1.57507692e+03\n",
            " 1.65012500e+03 5.53062500e+02 4.58620000e+03 1.03406452e+03\n",
            " 2.49620000e+03 0.00000000e+00 0.00000000e+00 3.06994118e+03\n",
            " 6.96325000e+03 0.00000000e+00 3.38800000e+03 0.00000000e+00\n",
            " 6.29808333e+03 1.20210714e+03 4.96861905e+03 3.18875000e+03\n",
            " 7.29423077e+02 3.00555172e+03 2.29379310e+02 2.65419048e+03\n",
            " 0.00000000e+00 0.00000000e+00 0.00000000e+00 4.28800000e+03\n",
            " 0.00000000e+00 1.14463333e+04 8.96212500e+03 0.00000000e+00\n",
            " 4.96900000e+03 4.82457143e+03 3.27411538e+03 6.80300000e+02\n",
            " 2.09688235e+03 3.52325926e+03 6.10695652e+02 2.42317647e+03\n",
            " 0.00000000e+00 3.84400000e+03 3.24687500e+03 2.08638095e+03\n",
            " 2.73755556e+03 0.00000000e+00 2.21932000e+04 1.45336364e+03\n",
            " 3.13935294e+03 6.71800000e+02 2.46703448e+03 3.45161290e+00\n",
            " 2.70774194e+02 1.65992000e+03 5.27281818e+03 6.72386667e+03\n",
            " 4.21718750e+03 1.21385714e+03 3.15714286e+02 0.00000000e+00\n",
            " 2.25142308e+03 0.00000000e+00 0.00000000e+00 1.40020000e+04\n",
            " 5.10222222e+03 8.05621429e+03 0.00000000e+00 0.00000000e+00\n",
            " 9.29300000e+02 0.00000000e+00 2.11857692e+03 4.43600000e+03\n",
            " 0.00000000e+00 7.47375000e+03 5.69226667e+03 3.50385714e+03\n",
            " 4.75200000e+03 3.43812500e+03 9.67129032e+02 2.63185000e+03\n",
            " 2.95576923e+02 1.67293333e+03]\n",
            "<class 'numpy.ndarray'>\n"
          ]
        }
      ]
    },
    {
      "cell_type": "code",
      "source": [
        "_ # última variável guardada na memória."
      ],
      "metadata": {
        "colab": {
          "base_uri": "https://localhost:8080/"
        },
        "id": "7Kd31dpVkqB9",
        "outputId": "b7514618-b9b1-4c1b-ff09-d44b33deda74"
      },
      "execution_count": 5,
      "outputs": [
        {
          "output_type": "execute_result",
          "data": {
            "text/plain": [
              "array([2003, 1991, 1990, 2019, 2006, 2012, 2019, 2009, 2010, 2011, 2002,\n",
              "       2007, 2001, 2019, 2009, 2016, 2012, 2019, 2016, 2017, 2002, 2019,\n",
              "       1994, 1991, 2019, 2019, 2016, 2019, 2002, 1991, 1997, 1995, 2018,\n",
              "       1991, 2014, 1995, 2019, 2019, 2009, 2019, 2013, 2003, 2019, 2002,\n",
              "       2019, 2002, 2004, 2001, 2019, 2003, 2009, 2006, 2000, 2006, 2010,\n",
              "       1994, 2007, 2019, 2019, 2019, 2019, 2019, 2017, 2011, 2001, 1996,\n",
              "       2019, 1994, 2019, 2007, 1994, 2007, 1997, 2006, 2013, 1994, 2008,\n",
              "       2008, 2019, 2019, 1999, 2007, 1993, 1995, 2019, 2019, 2016, 2011,\n",
              "       2019, 2002, 2013, 2017, 2016, 2008, 2018, 2003, 2003, 2004, 2010,\n",
              "       2019, 2006, 2001, 2019, 2015, 2018, 2017, 1992, 2001, 1993, 1995,\n",
              "       2003, 2014, 2008, 2013, 2019, 2017, 2019, 2019, 2006, 2015, 2007,\n",
              "       2005, 2017, 1998, 2019, 1999, 2019, 2009, 2003, 1994, 2019, 1994,\n",
              "       2019, 2015, 1996, 1997, 1993, 2019, 1992, 1995, 2019, 1990, 2019,\n",
              "       2019, 1991, 1990, 2012, 2007, 2013, 2000, 2002, 1996, 1996, 2015,\n",
              "       1993, 2013, 2013, 2009, 2019, 2019, 2002, 1997, 1998, 2004, 1996,\n",
              "       2015, 2016, 2005, 1999, 1995, 1993, 2004, 2013, 1998, 2018, 2019,\n",
              "       2018, 2019, 1990, 2009, 1990, 2006, 2002, 1991, 1992, 2019, 2019,\n",
              "       2005, 2010, 2019, 2016, 2019, 2010, 1994, 2001, 2014, 1996, 1993,\n",
              "       1993, 2001, 2019, 2019, 2019, 2007, 2019, 2016, 2014, 2019, 2015,\n",
              "       2015, 1996, 2002, 2005, 1995, 1999, 2005, 2019, 1997, 1990, 2001,\n",
              "       2013, 2019, 2017, 2011, 2005, 2007, 1993, 1991, 1991, 1997, 2000,\n",
              "       2007, 2006, 2015, 2008, 2019, 1996, 2019, 2019, 2014, 2004, 2008,\n",
              "       2019, 2019, 2012, 2019, 1996, 2011, 2019, 2010, 2007, 1994, 2007,\n",
              "       2014, 1991, 2002, 1996, 1992])"
            ]
          },
          "metadata": {},
          "execution_count": 5
        }
      ]
    },
    {
      "cell_type": "markdown",
      "source": [
        "### **Continuando:**"
      ],
      "metadata": {
        "id": "TBXg_uhmvJ-L"
      }
    },
    {
      "cell_type": "markdown",
      "source": [
        "[Documentação Arange](https://numpy.org/doc/stable/reference/generated/numpy.arange.html)"
      ],
      "metadata": {
        "id": "hK6Qamwmu47I"
      }
    },
    {
      "cell_type": "code",
      "source": [
        "np.arange(10)"
      ],
      "metadata": {
        "colab": {
          "base_uri": "https://localhost:8080/"
        },
        "id": "q0d7UA_ksuew",
        "outputId": "af645b68-d8ae-4337-93f1-9be11567dc62"
      },
      "execution_count": 6,
      "outputs": [
        {
          "output_type": "execute_result",
          "data": {
            "text/plain": [
              "array([0, 1, 2, 3, 4, 5, 6, 7, 8, 9])"
            ]
          },
          "metadata": {},
          "execution_count": 6
        }
      ]
    },
    {
      "cell_type": "markdown",
      "source": [
        "[Documentação List to Array]('https://numpy.org/doc/stable/reference/generated/numpy.array.html')"
      ],
      "metadata": {
        "id": "yRbYpueAvhWP"
      }
    },
    {
      "cell_type": "code",
      "source": [
        "np.array([10,100,1000,10000])"
      ],
      "metadata": {
        "colab": {
          "base_uri": "https://localhost:8080/"
        },
        "id": "pi30pVpGvP_v",
        "outputId": "1d3a1ee0-29c2-4111-86b4-83fc739dc421"
      },
      "execution_count": 7,
      "outputs": [
        {
          "output_type": "execute_result",
          "data": {
            "text/plain": [
              "array([   10,   100,  1000, 10000])"
            ]
          },
          "metadata": {},
          "execution_count": 7
        }
      ]
    },
    {
      "cell_type": "code",
      "source": [
        "# Desempenho List\n",
        "py_list = list(range(1000000))\n",
        "\n",
        "# Desempenho Array\n",
        "np_array = np.arange(1000000)"
      ],
      "metadata": {
        "id": "y929zYqbv99H"
      },
      "execution_count": 8,
      "outputs": []
    },
    {
      "cell_type": "code",
      "source": [
        "%time for _ in range(100): np_array *= 2"
      ],
      "metadata": {
        "colab": {
          "base_uri": "https://localhost:8080/"
        },
        "id": "VDW15GtDw_Fp",
        "outputId": "0154486b-e7d0-4ad5-a4cf-3e6c62ed1df0"
      },
      "execution_count": 9,
      "outputs": [
        {
          "output_type": "stream",
          "name": "stdout",
          "text": [
            "CPU times: user 57.6 ms, sys: 995 µs, total: 58.6 ms\n",
            "Wall time: 59.3 ms\n"
          ]
        }
      ]
    },
    {
      "cell_type": "code",
      "source": [
        "%time for _ in range(100): py_list = [x * 2 for x in py_list]"
      ],
      "metadata": {
        "colab": {
          "base_uri": "https://localhost:8080/"
        },
        "id": "ZHrT24bmxIIg",
        "outputId": "bade44fa-6fdb-4e74-c40f-4e16f3df032f"
      },
      "execution_count": 10,
      "outputs": [
        {
          "output_type": "stream",
          "name": "stdout",
          "text": [
            "CPU times: user 8.99 s, sys: 2.19 s, total: 11.2 s\n",
            "Wall time: 11.7 s\n"
          ]
        }
      ]
    },
    {
      "cell_type": "markdown",
      "source": [
        "### [Métodos do Numpy]('https://numpy.org/doc/stable/reference/generated/numpy.ndarray.html#array-mothods')"
      ],
      "metadata": {
        "id": "YgAj2TnQeLv8"
      }
    },
    {
      "cell_type": "code",
      "source": [
        "dados = np.array([[44410.,  5712., 37123.,     0., 25757.], [ 2003.,  1991.,  1990.,  2019.,  2006.]])\n",
        "dados"
      ],
      "metadata": {
        "colab": {
          "base_uri": "https://localhost:8080/"
        },
        "id": "q_8uW5QueRVZ",
        "outputId": "7deb4b3e-f5c5-464e-f13c-a99085ea08c5"
      },
      "execution_count": 11,
      "outputs": [
        {
          "output_type": "execute_result",
          "data": {
            "text/plain": [
              "array([[44410.,  5712., 37123.,     0., 25757.],\n",
              "       [ 2003.,  1991.,  1990.,  2019.,  2006.]])"
            ]
          },
          "metadata": {},
          "execution_count": 11
        }
      ]
    },
    {
      "cell_type": "code",
      "source": [
        "dados.shape"
      ],
      "metadata": {
        "colab": {
          "base_uri": "https://localhost:8080/"
        },
        "id": "s2FGr_HnfSP5",
        "outputId": "c9113339-7616-4514-97c1-bfe3c525bdb6"
      },
      "execution_count": 12,
      "outputs": [
        {
          "output_type": "execute_result",
          "data": {
            "text/plain": [
              "(2, 5)"
            ]
          },
          "metadata": {},
          "execution_count": 12
        }
      ]
    },
    {
      "cell_type": "code",
      "source": [
        "dados.ndim"
      ],
      "metadata": {
        "colab": {
          "base_uri": "https://localhost:8080/"
        },
        "id": "alWUqRP9fSgT",
        "outputId": "6a9bc3f9-cffd-4fc6-a7ee-2c1045a31468"
      },
      "execution_count": 13,
      "outputs": [
        {
          "output_type": "execute_result",
          "data": {
            "text/plain": [
              "2"
            ]
          },
          "metadata": {},
          "execution_count": 13
        }
      ]
    },
    {
      "cell_type": "code",
      "source": [
        "dados.size"
      ],
      "metadata": {
        "colab": {
          "base_uri": "https://localhost:8080/"
        },
        "id": "cmblPIeGfUTn",
        "outputId": "8d7b5f38-cc01-4b7d-dd11-70a52d388095"
      },
      "execution_count": 14,
      "outputs": [
        {
          "output_type": "execute_result",
          "data": {
            "text/plain": [
              "10"
            ]
          },
          "metadata": {},
          "execution_count": 14
        }
      ]
    },
    {
      "cell_type": "code",
      "source": [
        "dados.size"
      ],
      "metadata": {
        "colab": {
          "base_uri": "https://localhost:8080/"
        },
        "id": "wnwyqO2hfV-6",
        "outputId": "fdb2e92c-8888-4081-b67a-1967922c9757"
      },
      "execution_count": 15,
      "outputs": [
        {
          "output_type": "execute_result",
          "data": {
            "text/plain": [
              "10"
            ]
          },
          "metadata": {},
          "execution_count": 15
        }
      ]
    },
    {
      "cell_type": "code",
      "source": [
        "dados.T"
      ],
      "metadata": {
        "colab": {
          "base_uri": "https://localhost:8080/"
        },
        "id": "CnwYbUWOfaD4",
        "outputId": "57ef3d86-df93-4ed0-fc9b-51df90b17959"
      },
      "execution_count": 16,
      "outputs": [
        {
          "output_type": "execute_result",
          "data": {
            "text/plain": [
              "array([[44410.,  2003.],\n",
              "       [ 5712.,  1991.],\n",
              "       [37123.,  1990.],\n",
              "       [    0.,  2019.],\n",
              "       [25757.,  2006.]])"
            ]
          },
          "metadata": {},
          "execution_count": 16
        }
      ]
    },
    {
      "cell_type": "code",
      "source": [
        "dados.tolist()"
      ],
      "metadata": {
        "colab": {
          "base_uri": "https://localhost:8080/"
        },
        "id": "kWAz2_ysfaUT",
        "outputId": "ec92cb9f-d9b3-4a1b-92b1-d471198884d8"
      },
      "execution_count": 17,
      "outputs": [
        {
          "output_type": "execute_result",
          "data": {
            "text/plain": [
              "[[44410.0, 5712.0, 37123.0, 0.0, 25757.0],\n",
              " [2003.0, 1991.0, 1990.0, 2019.0, 2006.0]]"
            ]
          },
          "metadata": {},
          "execution_count": 17
        }
      ]
    },
    {
      "cell_type": "code",
      "source": [
        "contador = np.arange(10)\n",
        "contador"
      ],
      "metadata": {
        "colab": {
          "base_uri": "https://localhost:8080/"
        },
        "id": "o-N-PthXffG_",
        "outputId": "c915750f-f0b4-4bc5-803d-bcb16b30ee2f"
      },
      "execution_count": 18,
      "outputs": [
        {
          "output_type": "execute_result",
          "data": {
            "text/plain": [
              "array([0, 1, 2, 3, 4, 5, 6, 7, 8, 9])"
            ]
          },
          "metadata": {},
          "execution_count": 18
        }
      ]
    },
    {
      "cell_type": "code",
      "source": [
        "contador.reshape((5,2))"
      ],
      "metadata": {
        "colab": {
          "base_uri": "https://localhost:8080/"
        },
        "id": "Id69gP2QffIm",
        "outputId": "cbd053cb-fa4d-4a31-a9a9-98a112e46b3e"
      },
      "execution_count": 19,
      "outputs": [
        {
          "output_type": "execute_result",
          "data": {
            "text/plain": [
              "array([[0, 1],\n",
              "       [2, 3],\n",
              "       [4, 5],\n",
              "       [6, 7],\n",
              "       [8, 9]])"
            ]
          },
          "metadata": {},
          "execution_count": 19
        }
      ]
    },
    {
      "cell_type": "code",
      "source": [
        "contador.reshape((5, 2), order='C')"
      ],
      "metadata": {
        "colab": {
          "base_uri": "https://localhost:8080/"
        },
        "id": "THJj8LWMffLB",
        "outputId": "e6e91b65-6a66-4735-b51d-832131315682"
      },
      "execution_count": 20,
      "outputs": [
        {
          "output_type": "execute_result",
          "data": {
            "text/plain": [
              "array([[0, 1],\n",
              "       [2, 3],\n",
              "       [4, 5],\n",
              "       [6, 7],\n",
              "       [8, 9]])"
            ]
          },
          "metadata": {},
          "execution_count": 20
        }
      ]
    },
    {
      "cell_type": "code",
      "source": [
        "contador.reshape((5, 2), order='F')"
      ],
      "metadata": {
        "colab": {
          "base_uri": "https://localhost:8080/"
        },
        "id": "DAkcChcOffNs",
        "outputId": "17124243-e62d-436f-d127-60bf44aa6b45"
      },
      "execution_count": 21,
      "outputs": [
        {
          "output_type": "execute_result",
          "data": {
            "text/plain": [
              "array([[0, 5],\n",
              "       [1, 6],\n",
              "       [2, 7],\n",
              "       [3, 8],\n",
              "       [4, 9]])"
            ]
          },
          "metadata": {},
          "execution_count": 21
        }
      ]
    },
    {
      "cell_type": "code",
      "source": [
        "km = [44410, 5712, 37123, 0, 25757]\n",
        "anos = [2003, 1991, 1990, 2019, 2006]"
      ],
      "metadata": {
        "id": "J-IZGv-IffP9"
      },
      "execution_count": 23,
      "outputs": []
    },
    {
      "cell_type": "code",
      "source": [
        "info_carros = km + anos\n",
        "info_carros"
      ],
      "metadata": {
        "colab": {
          "base_uri": "https://localhost:8080/"
        },
        "id": "EuqF3VzBffSw",
        "outputId": "3cadd722-81b4-4214-fdbe-495c8552aab4"
      },
      "execution_count": 24,
      "outputs": [
        {
          "output_type": "execute_result",
          "data": {
            "text/plain": [
              "[44410, 5712, 37123, 0, 25757, 2003, 1991, 1990, 2019, 2006]"
            ]
          },
          "metadata": {},
          "execution_count": 24
        }
      ]
    },
    {
      "cell_type": "code",
      "source": [
        "np.array(info_carros)"
      ],
      "metadata": {
        "colab": {
          "base_uri": "https://localhost:8080/"
        },
        "id": "tLYdqKTyffWc",
        "outputId": "bc75d864-bd8d-4ae0-b050-e2e301a949f8"
      },
      "execution_count": 25,
      "outputs": [
        {
          "output_type": "execute_result",
          "data": {
            "text/plain": [
              "array([44410,  5712, 37123,     0, 25757,  2003,  1991,  1990,  2019,\n",
              "        2006])"
            ]
          },
          "metadata": {},
          "execution_count": 25
        }
      ]
    },
    {
      "cell_type": "code",
      "source": [
        "np.array(info_carros).reshape((2, 5))"
      ],
      "metadata": {
        "colab": {
          "base_uri": "https://localhost:8080/"
        },
        "id": "ZH0LPubwfzQH",
        "outputId": "9131e305-e895-4291-9fb4-ab262688d420"
      },
      "execution_count": 26,
      "outputs": [
        {
          "output_type": "execute_result",
          "data": {
            "text/plain": [
              "array([[44410,  5712, 37123,     0, 25757],\n",
              "       [ 2003,  1991,  1990,  2019,  2006]])"
            ]
          },
          "metadata": {},
          "execution_count": 26
        }
      ]
    },
    {
      "cell_type": "code",
      "source": [
        "np.array(info_carros).reshape((5, 2))"
      ],
      "metadata": {
        "colab": {
          "base_uri": "https://localhost:8080/"
        },
        "id": "ltpnvrUGfzRu",
        "outputId": "a3a25bb3-05e0-42e4-ecce-6995ab3b46d6"
      },
      "execution_count": 27,
      "outputs": [
        {
          "output_type": "execute_result",
          "data": {
            "text/plain": [
              "array([[44410,  5712],\n",
              "       [37123,     0],\n",
              "       [25757,  2003],\n",
              "       [ 1991,  1990],\n",
              "       [ 2019,  2006]])"
            ]
          },
          "metadata": {},
          "execution_count": 27
        }
      ]
    },
    {
      "cell_type": "code",
      "source": [
        "np.array(info_carros).reshape((5, 2), order='F')"
      ],
      "metadata": {
        "colab": {
          "base_uri": "https://localhost:8080/"
        },
        "id": "ddZx0FCtfzUa",
        "outputId": "863e05e7-c3e3-4494-d1d7-a4c0d16c8f9d"
      },
      "execution_count": 28,
      "outputs": [
        {
          "output_type": "execute_result",
          "data": {
            "text/plain": [
              "array([[44410,  2003],\n",
              "       [ 5712,  1991],\n",
              "       [37123,  1990],\n",
              "       [    0,  2019],\n",
              "       [25757,  2006]])"
            ]
          },
          "metadata": {},
          "execution_count": 28
        }
      ]
    },
    {
      "cell_type": "markdown",
      "source": [
        "### **Estatisticas com Numpy:**"
      ],
      "metadata": {
        "id": "VBzfdx-2gXoN"
      }
    },
    {
      "cell_type": "code",
      "source": [
        "anos = np.loadtxt('https://raw.githubusercontent.com/filipecarbonera/formacao_python/main/dados/carros-anos.txt', dtype=int)\n",
        "km = np.loadtxt('https://raw.githubusercontent.com/filipecarbonera/formacao_python/main/dados/carros-km.txt')\n",
        "valor = np.loadtxt('https://raw.githubusercontent.com/filipecarbonera/formacao_python/main/dados/carros-valor.txt')"
      ],
      "metadata": {
        "id": "quutf73ffzXV"
      },
      "execution_count": 31,
      "outputs": []
    },
    {
      "cell_type": "code",
      "source": [
        "anos.shape"
      ],
      "metadata": {
        "colab": {
          "base_uri": "https://localhost:8080/"
        },
        "id": "fCbzY9ZjfzZh",
        "outputId": "53808af1-5b8f-412a-a0f0-f76478a920ab"
      },
      "execution_count": 33,
      "outputs": [
        {
          "output_type": "execute_result",
          "data": {
            "text/plain": [
              "(258,)"
            ]
          },
          "metadata": {},
          "execution_count": 33
        }
      ]
    },
    {
      "cell_type": "code",
      "source": [
        "dataset = np.column_stack((anos, km, valor))\n",
        "dataset"
      ],
      "metadata": {
        "colab": {
          "base_uri": "https://localhost:8080/"
        },
        "id": "ujLo0pPffzcL",
        "outputId": "56fb9fa4-db87-44b1-f8de-0266a2bdceba"
      },
      "execution_count": 34,
      "outputs": [
        {
          "output_type": "execute_result",
          "data": {
            "text/plain": [
              "array([[2.0030000e+03, 4.4410000e+04, 8.8078640e+04],\n",
              "       [1.9910000e+03, 5.7120000e+03, 1.0616194e+05],\n",
              "       [1.9900000e+03, 3.7123000e+04, 7.2832160e+04],\n",
              "       [2.0190000e+03, 0.0000000e+00, 1.2454907e+05],\n",
              "       [2.0060000e+03, 2.5757000e+04, 9.2612100e+04],\n",
              "       [2.0120000e+03, 1.0728000e+04, 9.7497730e+04],\n",
              "       [2.0190000e+03, 0.0000000e+00, 5.6445200e+04],\n",
              "       [2.0090000e+03, 7.7599000e+04, 1.1231044e+05],\n",
              "       [2.0100000e+03, 9.9197000e+04, 1.2071627e+05],\n",
              "       [2.0110000e+03, 3.7978000e+04, 7.6566490e+04],\n",
              "       [2.0020000e+03, 1.2859000e+04, 7.1647590e+04],\n",
              "       [2.0070000e+03, 8.0520000e+03, 7.3919530e+04],\n",
              "       [2.0010000e+03, 8.9773000e+04, 1.1273299e+05],\n",
              "       [2.0190000e+03, 0.0000000e+00, 5.3183380e+04],\n",
              "       [2.0090000e+03, 4.1457000e+04, 1.2748842e+05],\n",
              "       [2.0160000e+03, 1.1560700e+05, 5.9910400e+04],\n",
              "       [2.0120000e+03, 4.6449000e+04, 6.1118590e+04],\n",
              "       [2.0190000e+03, 0.0000000e+00, 8.8552390e+04],\n",
              "       [2.0160000e+03, 3.7086000e+04, 6.2696690e+04],\n",
              "       [2.0170000e+03, 1.5173000e+04, 1.0172630e+05],\n",
              "       [2.0020000e+03, 1.0119300e+05, 1.0614738e+05],\n",
              "       [2.0190000e+03, 0.0000000e+00, 9.4564400e+04],\n",
              "       [1.9940000e+03, 9.8079000e+04, 1.3352984e+05],\n",
              "       [1.9910000e+03, 1.0295900e+05, 1.2568465e+05],\n",
              "       [2.0190000e+03, 0.0000000e+00, 1.2159621e+05],\n",
              "       [2.0190000e+03, 0.0000000e+00, 7.1367100e+04],\n",
              "       [2.0160000e+03, 5.7950000e+03, 9.5347750e+04],\n",
              "       [2.0190000e+03, 0.0000000e+00, 1.0543284e+05],\n",
              "       [2.0020000e+03, 5.8848000e+04, 5.7045270e+04],\n",
              "       [1.9910000e+03, 9.4381000e+04, 1.2043270e+05],\n",
              "       [1.9970000e+03, 3.0163000e+04, 7.0707200e+04],\n",
              "       [1.9950000e+03, 5.3332000e+04, 6.9105180e+04],\n",
              "       [2.0180000e+03, 1.7720000e+04, 5.9358690e+04],\n",
              "       [1.9910000e+03, 3.3808000e+04, 6.5955400e+04],\n",
              "       [2.0140000e+03, 9.0684000e+04, 6.0017030e+04],\n",
              "       [1.9950000e+03, 4.3975000e+04, 1.1890952e+05],\n",
              "       [2.0190000e+03, 0.0000000e+00, 5.1606590e+04],\n",
              "       [2.0190000e+03, 0.0000000e+00, 1.2328187e+05],\n",
              "       [2.0090000e+03, 5.5260000e+03, 6.9770180e+04],\n",
              "       [2.0190000e+03, 0.0000000e+00, 1.0260954e+05],\n",
              "       [2.0130000e+03, 9.3415000e+04, 6.7997190e+04],\n",
              "       [2.0030000e+03, 4.0762000e+04, 1.3523529e+05],\n",
              "       [2.0190000e+03, 0.0000000e+00, 8.6641340e+04],\n",
              "       [2.0020000e+03, 8.6302000e+04, 1.3681839e+05],\n",
              "       [2.0190000e+03, 0.0000000e+00, 1.1762673e+05],\n",
              "       [2.0020000e+03, 9.7550000e+03, 5.6208700e+04],\n",
              "       [2.0040000e+03, 6.9945000e+04, 8.4222650e+04],\n",
              "       [2.0010000e+03, 2.3950000e+03, 9.0781650e+04],\n",
              "       [2.0190000e+03, 0.0000000e+00, 6.4701100e+04],\n",
              "       [2.0030000e+03, 8.0349000e+04, 1.2635049e+05],\n",
              "       [2.0090000e+03, 8.5554000e+04, 1.4815289e+05],\n",
              "       [2.0060000e+03, 5.0496000e+04, 1.3229883e+05],\n",
              "       [2.0000000e+03, 6.7716000e+04, 1.3762763e+05],\n",
              "       [2.0060000e+03, 9.3947000e+04, 8.0422710e+04],\n",
              "       [2.0100000e+03, 3.5345000e+04, 5.6373990e+04],\n",
              "       [1.9940000e+03, 8.1007000e+04, 7.0846030e+04],\n",
              "       [2.0070000e+03, 1.1951300e+05, 1.2869423e+05],\n",
              "       [2.0190000e+03, 0.0000000e+00, 1.3332919e+05],\n",
              "       [2.0190000e+03, 0.0000000e+00, 1.3196143e+05],\n",
              "       [2.0190000e+03, 0.0000000e+00, 1.1203327e+05],\n",
              "       [2.0190000e+03, 0.0000000e+00, 8.1399350e+04],\n",
              "       [2.0190000e+03, 0.0000000e+00, 9.7163100e+04],\n",
              "       [2.0170000e+03, 1.1889500e+05, 6.6007160e+04],\n",
              "       [2.0110000e+03, 4.8509000e+04, 1.2877622e+05],\n",
              "       [2.0010000e+03, 1.0091200e+05, 1.4262302e+05],\n",
              "       [1.9960000e+03, 9.5649000e+04, 1.3693013e+05],\n",
              "       [2.0190000e+03, 0.0000000e+00, 6.6526610e+04],\n",
              "       [1.9940000e+03, 9.0495000e+04, 1.1415487e+05],\n",
              "       [2.0190000e+03, 0.0000000e+00, 1.4239275e+05],\n",
              "       [2.0070000e+03, 2.9132000e+04, 1.4671691e+05],\n",
              "       [1.9940000e+03, 2.3802000e+04, 1.2248568e+05],\n",
              "       [2.0070000e+03, 8.4992000e+04, 9.7951030e+04],\n",
              "       [1.9970000e+03, 5.4395000e+04, 7.8283490e+04],\n",
              "       [2.0060000e+03, 2.6731000e+04, 8.3434040e+04],\n",
              "       [2.0130000e+03, 4.4329000e+04, 7.7836230e+04],\n",
              "       [1.9940000e+03, 1.1823600e+05, 6.0813920e+04],\n",
              "       [2.0080000e+03, 1.1380800e+05, 9.1353860e+04],\n",
              "       [2.0080000e+03, 6.1000000e+02, 1.1628121e+05],\n",
              "       [2.0190000e+03, 0.0000000e+00, 1.4519770e+05],\n",
              "       [2.0190000e+03, 0.0000000e+00, 5.0742100e+04],\n",
              "       [1.9990000e+03, 1.2887000e+04, 7.3033530e+04],\n",
              "       [2.0070000e+03, 7.9607000e+04, 5.4332870e+04],\n",
              "       [1.9930000e+03, 9.0924000e+04, 5.2207450e+04],\n",
              "       [1.9950000e+03, 4.2733000e+04, 6.3578500e+04],\n",
              "       [2.0190000e+03, 0.0000000e+00, 6.4507720e+04],\n",
              "       [2.0190000e+03, 0.0000000e+00, 1.1507559e+05],\n",
              "       [2.0160000e+03, 1.1771400e+05, 1.3303060e+05],\n",
              "       [2.0110000e+03, 1.1388500e+05, 1.4159186e+05],\n",
              "       [2.0190000e+03, 0.0000000e+00, 1.0038028e+05],\n",
              "       [2.0020000e+03, 3.0511000e+04, 9.6369040e+04],\n",
              "       [2.0130000e+03, 7.4867000e+04, 1.4260384e+05],\n",
              "       [2.0170000e+03, 1.1976000e+05, 1.1770967e+05],\n",
              "       [2.0160000e+03, 8.3560000e+03, 1.0224154e+05],\n",
              "       [2.0080000e+03, 6.4247000e+04, 9.6065380e+04],\n",
              "       [2.0180000e+03, 8.8661000e+04, 5.3894610e+04],\n",
              "       [2.0030000e+03, 4.5390000e+03, 1.2391178e+05],\n",
              "       [2.0030000e+03, 1.1011600e+05, 1.0199635e+05],\n",
              "       [2.0040000e+03, 3.3215000e+04, 8.3431660e+04],\n",
              "       [2.0100000e+03, 9.2001000e+04, 1.2297563e+05],\n",
              "       [2.0190000e+03, 0.0000000e+00, 9.3227730e+04],\n",
              "       [2.0060000e+03, 8.1708000e+04, 5.8762650e+04],\n",
              "       [2.0010000e+03, 7.0641000e+04, 1.3954967e+05],\n",
              "       [2.0190000e+03, 0.0000000e+00, 1.2201642e+05],\n",
              "       [2.0150000e+03, 9.1277000e+04, 7.2731980e+04],\n",
              "       [2.0180000e+03, 2.6544000e+04, 8.8416540e+04],\n",
              "       [2.0170000e+03, 5.2596000e+04, 7.3873420e+04],\n",
              "       [1.9920000e+03, 4.7503000e+04, 7.0709340e+04],\n",
              "       [2.0010000e+03, 8.9056000e+04, 1.1530650e+05],\n",
              "       [1.9930000e+03, 2.8834000e+04, 5.5924630e+04],\n",
              "       [1.9950000e+03, 1.1056400e+05, 8.5052260e+04],\n",
              "       [2.0030000e+03, 5.6638000e+04, 5.6646340e+04],\n",
              "       [2.0140000e+03, 1.7357000e+04, 1.3894688e+05],\n",
              "       [2.0080000e+03, 7.4015000e+04, 1.0825672e+05],\n",
              "       [2.0130000e+03, 1.5196000e+04, 5.8979300e+04],\n",
              "       [2.0190000e+03, 0.0000000e+00, 1.1472768e+05],\n",
              "       [2.0170000e+03, 1.0821000e+04, 1.3966148e+05],\n",
              "       [2.0190000e+03, 0.0000000e+00, 8.0382240e+04],\n",
              "       [2.0190000e+03, 0.0000000e+00, 1.4915717e+05],\n",
              "       [2.0060000e+03, 9.5950000e+03, 8.7830410e+04],\n",
              "       [2.0150000e+03, 9.9052000e+04, 1.4356822e+05],\n",
              "       [2.0070000e+03, 5.2389000e+04, 1.3817185e+05],\n",
              "       [2.0050000e+03, 1.1994500e+05, 1.1578495e+05],\n",
              "       [2.0170000e+03, 9.6005000e+04, 1.4650899e+05],\n",
              "       [1.9980000e+03, 3.1639000e+04, 1.3767023e+05],\n",
              "       [2.0190000e+03, 0.0000000e+00, 1.3859727e+05],\n",
              "       [1.9990000e+03, 8.0187000e+04, 1.4762781e+05],\n",
              "       [2.0190000e+03, 0.0000000e+00, 6.2999020e+04],\n",
              "       [2.0090000e+03, 5.8212000e+04, 9.1242440e+04],\n",
              "       [2.0030000e+03, 6.1672000e+04, 1.4948992e+05],\n",
              "       [1.9940000e+03, 3.2017000e+04, 6.3529950e+04],\n",
              "       [2.0190000e+03, 0.0000000e+00, 5.8525410e+04],\n",
              "       [1.9940000e+03, 5.6944000e+04, 9.0345050e+04],\n",
              "       [2.0190000e+03, 0.0000000e+00, 1.4777087e+05],\n",
              "       [2.0150000e+03, 8.6519000e+04, 1.0661771e+05],\n",
              "       [1.9960000e+03, 4.8210000e+03, 1.0492988e+05],\n",
              "       [1.9970000e+03, 1.0102500e+05, 1.0071245e+05],\n",
              "       [1.9930000e+03, 3.0705000e+04, 1.4198293e+05],\n",
              "       [2.0190000e+03, 0.0000000e+00, 1.0403879e+05],\n",
              "       [1.9920000e+03, 3.2555000e+04, 8.8501540e+04],\n",
              "       [1.9950000e+03, 1.0338900e+05, 7.9782020e+04],\n",
              "       [2.0190000e+03, 0.0000000e+00, 8.6224100e+04],\n",
              "       [1.9900000e+03, 5.5289000e+04, 1.0359618e+05],\n",
              "       [2.0190000e+03, 0.0000000e+00, 1.4899647e+05],\n",
              "       [2.0190000e+03, 0.0000000e+00, 6.0948010e+04],\n",
              "       [1.9910000e+03, 1.1593000e+05, 6.9535440e+04],\n",
              "       [1.9900000e+03, 6.6437000e+04, 1.1113033e+05],\n",
              "       [2.0120000e+03, 9.6800000e+04, 6.5847690e+04],\n",
              "       [2.0070000e+03, 1.4237000e+04, 7.8096060e+04],\n",
              "       [2.0130000e+03, 1.9896000e+04, 6.9219890e+04],\n",
              "       [2.0000000e+03, 1.1304500e+05, 1.4411891e+05],\n",
              "       [2.0020000e+03, 1.1494200e+05, 7.7397050e+04],\n",
              "       [1.9960000e+03, 3.1730000e+03, 6.8974250e+04],\n",
              "       [1.9960000e+03, 8.3611000e+04, 1.2523130e+05],\n",
              "       [2.0150000e+03, 2.5356000e+04, 8.5501120e+04],\n",
              "       [1.9930000e+03, 8.8634000e+04, 1.3711621e+05],\n",
              "       [2.0130000e+03, 2.3140000e+03, 1.3882381e+05],\n",
              "       [2.0130000e+03, 2.6270000e+03, 1.1796195e+05],\n",
              "       [2.0090000e+03, 5.2034000e+04, 1.3266232e+05],\n",
              "       [2.0190000e+03, 0.0000000e+00, 1.4640579e+05],\n",
              "       [2.0190000e+03, 0.0000000e+00, 8.1999210e+04],\n",
              "       [2.0020000e+03, 7.9577000e+04, 1.4093460e+05],\n",
              "       [1.9970000e+03, 1.0820100e+05, 8.2366810e+04],\n",
              "       [1.9980000e+03, 7.6453000e+04, 7.0424110e+04],\n",
              "       [2.0040000e+03, 5.7683000e+04, 5.3620310e+04],\n",
              "       [1.9960000e+03, 9.6610000e+04, 7.3389180e+04],\n",
              "       [2.0150000e+03, 1.0900100e+05, 1.1161812e+05],\n",
              "       [2.0160000e+03, 2.6212000e+04, 1.1218737e+05],\n",
              "       [2.0050000e+03, 4.5971000e+04, 1.2081257e+05],\n",
              "       [1.9990000e+03, 4.9182000e+04, 1.1603104e+05],\n",
              "       [1.9950000e+03, 4.9907000e+04, 1.2539811e+05],\n",
              "       [1.9930000e+03, 3.8620000e+04, 7.6101470e+04],\n",
              "       [2.0040000e+03, 6.0996000e+04, 7.5263240e+04],\n",
              "       [2.0130000e+03, 7.3914000e+04, 1.4738776e+05],\n",
              "       [1.9980000e+03, 1.0739200e+05, 8.5311400e+04],\n",
              "       [2.0180000e+03, 9.1460000e+03, 5.4388110e+04],\n",
              "       [2.0190000e+03, 0.0000000e+00, 1.2415665e+05],\n",
              "       [2.0180000e+03, 1.7924000e+04, 1.4620334e+05],\n",
              "       [2.0190000e+03, 0.0000000e+00, 5.6453940e+04],\n",
              "       [1.9900000e+03, 1.1694900e+05, 6.8873790e+04],\n",
              "       [2.0090000e+03, 2.0476000e+04, 9.1667610e+04],\n",
              "       [1.9900000e+03, 5.2804000e+04, 9.3776520e+04],\n",
              "       [2.0060000e+03, 8.8490000e+03, 6.6433820e+04],\n",
              "       [2.0020000e+03, 9.1724000e+04, 1.0905927e+05],\n",
              "       [1.9910000e+03, 3.2056000e+04, 1.2206997e+05],\n",
              "       [1.9920000e+03, 7.4886000e+04, 1.1309032e+05],\n",
              "       [2.0190000e+03, 0.0000000e+00, 8.9401100e+04],\n",
              "       [2.0190000e+03, 0.0000000e+00, 5.6842790e+04],\n",
              "       [2.0050000e+03, 5.2189000e+04, 1.4667671e+05],\n",
              "       [2.0100000e+03, 8.3559000e+04, 8.9511960e+04],\n",
              "       [2.0190000e+03, 0.0000000e+00, 9.7290180e+04],\n",
              "       [2.0160000e+03, 2.0328000e+04, 1.2067356e+05],\n",
              "       [2.0190000e+03, 0.0000000e+00, 1.1443494e+05],\n",
              "       [2.0100000e+03, 7.5577000e+04, 1.3954669e+05],\n",
              "       [1.9940000e+03, 3.3659000e+04, 9.5078160e+04],\n",
              "       [2.0010000e+03, 1.0434100e+05, 6.8091770e+04],\n",
              "       [2.0140000e+03, 2.5510000e+04, 6.1496970e+04],\n",
              "       [1.9960000e+03, 1.8965000e+04, 1.3966930e+05],\n",
              "       [1.9930000e+03, 8.7161000e+04, 8.0661390e+04],\n",
              "       [1.9930000e+03, 6.6520000e+03, 6.1783650e+04],\n",
              "       [2.0010000e+03, 5.5738000e+04, 5.2805910e+04],\n",
              "       [2.0190000e+03, 0.0000000e+00, 1.2702475e+05],\n",
              "       [2.0190000e+03, 0.0000000e+00, 1.3554300e+05],\n",
              "       [2.0190000e+03, 0.0000000e+00, 1.2170873e+05],\n",
              "       [2.0070000e+03, 6.4320000e+04, 1.0734268e+05],\n",
              "       [2.0190000e+03, 0.0000000e+00, 5.7888100e+04],\n",
              "       [2.0160000e+03, 6.8678000e+04, 1.1816148e+05],\n",
              "       [2.0140000e+03, 7.1697000e+04, 1.4249906e+05],\n",
              "       [2.0190000e+03, 0.0000000e+00, 1.2839611e+05],\n",
              "       [2.0150000e+03, 3.4783000e+04, 1.1235061e+05],\n",
              "       [2.0150000e+03, 3.3772000e+04, 1.2466138e+05],\n",
              "       [1.9960000e+03, 8.5127000e+04, 5.4263160e+04],\n",
              "       [2.0020000e+03, 1.3606000e+04, 6.2041320e+04],\n",
              "       [2.0050000e+03, 3.5647000e+04, 1.2929611e+05],\n",
              "       [1.9950000e+03, 9.5128000e+04, 6.0998330e+04],\n",
              "       [1.9990000e+03, 1.4046000e+04, 5.8008500e+04],\n",
              "       [2.0050000e+03, 4.1194000e+04, 8.2304190e+04],\n",
              "       [2.0190000e+03, 0.0000000e+00, 1.1453174e+05],\n",
              "       [1.9970000e+03, 9.6100000e+04, 1.2856561e+05],\n",
              "       [1.9900000e+03, 1.0390000e+05, 1.2648826e+05],\n",
              "       [2.0010000e+03, 4.3814000e+04, 1.1907455e+05],\n",
              "       [2.0130000e+03, 2.4638000e+04, 1.3023804e+05],\n",
              "       [2.0190000e+03, 0.0000000e+00, 1.1576017e+05],\n",
              "       [2.0170000e+03, 1.1096600e+05, 1.2124800e+05],\n",
              "       [2.0110000e+03, 1.5987000e+04, 9.8156350e+04],\n",
              "       [2.0050000e+03, 5.3369000e+04, 1.1214680e+05],\n",
              "       [2.0070000e+03, 1.0077000e+04, 1.0272963e+05],\n",
              "       [1.9930000e+03, 7.1544000e+04, 1.4108335e+05],\n",
              "       [1.9910000e+03, 1.0700000e+02, 1.0296876e+05],\n",
              "       [1.9910000e+03, 8.3940000e+03, 7.6310010e+04],\n",
              "       [1.9970000e+03, 4.1498000e+04, 1.2048174e+05],\n",
              "       [2.0000000e+03, 1.1600200e+05, 5.4559180e+04],\n",
              "       [2.0070000e+03, 1.0085800e+05, 9.2957640e+04],\n",
              "       [2.0060000e+03, 6.7475000e+04, 1.2781006e+05],\n",
              "       [2.0150000e+03, 8.4970000e+03, 7.3311750e+04],\n",
              "       [2.0080000e+03, 4.4200000e+03, 6.5138030e+04],\n",
              "       [2.0190000e+03, 0.0000000e+00, 9.0141470e+04],\n",
              "       [1.9960000e+03, 5.8537000e+04, 7.1160360e+04],\n",
              "       [2.0190000e+03, 0.0000000e+00, 6.7539790e+04],\n",
              "       [2.0190000e+03, 0.0000000e+00, 6.7664860e+04],\n",
              "       [2.0140000e+03, 1.1201600e+05, 6.8652160e+04],\n",
              "       [2.0040000e+03, 9.1840000e+04, 1.1472874e+05],\n",
              "       [2.0080000e+03, 1.1278700e+05, 1.4164508e+05],\n",
              "       [2.0190000e+03, 0.0000000e+00, 1.2624784e+05],\n",
              "       [2.0190000e+03, 0.0000000e+00, 1.2885221e+05],\n",
              "       [2.0120000e+03, 9.2930000e+03, 1.3238476e+05],\n",
              "       [2.0190000e+03, 0.0000000e+00, 1.2941533e+05],\n",
              "       [1.9960000e+03, 5.5083000e+04, 8.9536820e+04],\n",
              "       [2.0110000e+03, 4.8796000e+04, 8.7975300e+04],\n",
              "       [2.0190000e+03, 0.0000000e+00, 7.7675790e+04],\n",
              "       [2.0100000e+03, 8.9685000e+04, 5.8881670e+04],\n",
              "       [2.0070000e+03, 8.5384000e+04, 5.5081990e+04],\n",
              "       [1.9940000e+03, 9.8108000e+04, 1.1882644e+05],\n",
              "       [2.0070000e+03, 7.1280000e+04, 1.3762762e+05],\n",
              "       [2.0140000e+03, 2.7505000e+04, 5.1759580e+04],\n",
              "       [1.9910000e+03, 2.9981000e+04, 5.1667060e+04],\n",
              "       [2.0020000e+03, 5.2637000e+04, 6.8934030e+04],\n",
              "       [1.9960000e+03, 7.6850000e+03, 1.2211090e+05],\n",
              "       [1.9920000e+03, 5.0188000e+04, 9.0381470e+04]])"
            ]
          },
          "metadata": {},
          "execution_count": 34
        }
      ]
    },
    {
      "cell_type": "code",
      "source": [
        "dataset.shape"
      ],
      "metadata": {
        "colab": {
          "base_uri": "https://localhost:8080/"
        },
        "id": "g4CnOPxSfzef",
        "outputId": "dc36c160-dd81-4f50-faa2-408646ad6291"
      },
      "execution_count": 36,
      "outputs": [
        {
          "output_type": "execute_result",
          "data": {
            "text/plain": [
              "(258, 3)"
            ]
          },
          "metadata": {},
          "execution_count": 36
        }
      ]
    },
    {
      "cell_type": "code",
      "source": [
        "np.mean(dataset, axis = 0)"
      ],
      "metadata": {
        "colab": {
          "base_uri": "https://localhost:8080/"
        },
        "id": "NDGbe9yvfzg3",
        "outputId": "7b19199b-70aa-4953-a112-65b3563801df"
      },
      "execution_count": 40,
      "outputs": [
        {
          "output_type": "execute_result",
          "data": {
            "text/plain": [
              "array([ 2007.51162791, 44499.41472868, 98960.51310078])"
            ]
          },
          "metadata": {},
          "execution_count": 40
        }
      ]
    },
    {
      "cell_type": "code",
      "source": [
        "np.mean(dataset[:,1])"
      ],
      "metadata": {
        "colab": {
          "base_uri": "https://localhost:8080/"
        },
        "id": "MtK_-qTQfzkx",
        "outputId": "457742fb-0219-4c82-c817-e60e25ce311b"
      },
      "execution_count": 42,
      "outputs": [
        {
          "output_type": "execute_result",
          "data": {
            "text/plain": [
              "44499.41472868217"
            ]
          },
          "metadata": {},
          "execution_count": 42
        }
      ]
    },
    {
      "cell_type": "code",
      "source": [
        "np.std(dataset[:,1])"
      ],
      "metadata": {
        "colab": {
          "base_uri": "https://localhost:8080/"
        },
        "id": "38UJzQIHiE7h",
        "outputId": "f6b11f18-a9c1-4507-8730-9457607075dd"
      },
      "execution_count": 43,
      "outputs": [
        {
          "output_type": "execute_result",
          "data": {
            "text/plain": [
              "39859.82699005149"
            ]
          },
          "metadata": {},
          "execution_count": 43
        }
      ]
    }
  ]
}